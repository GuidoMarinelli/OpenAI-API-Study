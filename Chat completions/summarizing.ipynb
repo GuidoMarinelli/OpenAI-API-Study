{
 "cells": [
  {
   "attachments": {},
   "cell_type": "markdown",
   "id": "8d00a1bc-23cc-429b-81b6-f77b304c429b",
   "metadata": {},
   "source": [
    "# Summarizing\n",
    "\n",
    "**Author:** [Guido Marinelli](https://github.com/GuidoMarinelli/)<br>\n",
    "**Date created:** 2023/05/05<br>\n",
    "**Last modified:** 2023/05/05<br>\n",
    "**Description:** Summarize text with a focus on specific topics.<br>"
   ]
  },
  {
   "attachments": {},
   "cell_type": "markdown",
   "id": "51be2349-84f6-429b-baf7-5f03d0ac69d0",
   "metadata": {},
   "source": [
    "## Setup"
   ]
  },
  {
   "cell_type": "code",
   "execution_count": 1,
   "id": "d779ef90-69f0-490e-b760-e56798d9800d",
   "metadata": {},
   "outputs": [],
   "source": [
    "import openai\n",
    "\n",
    "from keys import OPENAI_API_KEY # indirect import of the API key\n",
    "\n",
    "openai.api_key = OPENAI_API_KEY"
   ]
  },
  {
   "cell_type": "code",
   "execution_count": 2,
   "id": "0879e3d9-8006-4965-a5f6-0ca1794cdb63",
   "metadata": {},
   "outputs": [],
   "source": [
    "def get_completion(prompt, model='gpt-3.5-turbo'):\n",
    "    messages = [{'role': 'user', 'content': prompt}]\n",
    "    response = openai.ChatCompletion.create(\n",
    "        model=model,\n",
    "        messages=messages,\n",
    "        temperature=0,  # this is the degree for tasks that require reliability, predictability\n",
    "    )\n",
    "    return response.choices[0].message['content']"
   ]
  },
  {
   "attachments": {},
   "cell_type": "markdown",
   "id": "5ee35829-75f5-4614-b1e4-ff695f7850ea",
   "metadata": {},
   "source": [
    "## Text to summarize"
   ]
  },
  {
   "cell_type": "code",
   "execution_count": 3,
   "id": "4ad9b7f8-1beb-4072-bc04-80d88c7a33ae",
   "metadata": {},
   "outputs": [],
   "source": [
    "review = f\"\"\"\n",
    "The Count of Monte Cristo (French: Le Comte de Monte-Cristo) is an adventure novel written \\\n",
    "by French author Alexandre Dumas (père) completed in 1844. It is one of the author's most \\\n",
    "popular works, along with The Three Musketeers. Like many of his novels, it was expanded \\\n",
    "from plot outlines suggested by his collaborating ghostwriter Auguste Maquet.\n",
    "\n",
    "The story takes place in France, Italy, and islands in the Mediterranean during the historical \\\n",
    "events of 1815–1839: the era of the Bourbon Restoration through the reign of Louis-Philippe of France. \n",
    "It begins on the day that Napoleon left his first island of exile, Elba, beginning the Hundred Days \\\n",
    "period when Napoleon returned to power. The historical setting is a fundamental element of the book, \\\n",
    "an adventure story centrally concerned with themes of hope, justice, vengeance, mercy, and forgiveness. \n",
    "It centers on a man who is wrongfully imprisoned, escapes from jail, acquires a fortune, \\\n",
    "and sets about exacting revenge on those responsible for his imprisonment.\n",
    "\n",
    "Before he can marry his fiancée Mercédès, Edmond Dantès, a nineteen-year-old Frenchman, \\\n",
    "and first mate of the Pharaon, is falsely accused of treason, arrested, and imprisoned \\\n",
    "without trial in the Château d'If, a grim island fortress off Marseille. A fellow prisoner, \\\n",
    "Abbé Faria, correctly deduces that his jealous rival Fernand Mondego, envious crewmate Danglars, \\\n",
    "and double-dealing magistrate De Villefort turned him in. Faria inspires his escape and guides him \\\n",
    "to a fortune in treasure. As the powerful and mysterious Count of Monte Cristo (Italy), \\\n",
    "Dantès arrives from the Orient to enter the fashionable Parisian world of the 1830s and \\\n",
    "avenge himself on the men who conspired to destroy him.\n",
    "\n",
    "The book is considered a literary classic today. According to Lucy Sante, \\\n",
    "\"The Count of Monte Cristo has become a fixture of Western civilization's literature.\"\n",
    "\"\"\""
   ]
  },
  {
   "attachments": {},
   "cell_type": "markdown",
   "id": "a2185727",
   "metadata": {},
   "source": [
    "Text extracted from the [Wikipedia site](https://en.wikipedia.org/wiki/The_Count_of_Monte_Cristo)"
   ]
  },
  {
   "attachments": {},
   "cell_type": "markdown",
   "id": "cad0b634-9ee3-46a4-9fe2-ad4c41f8cdaa",
   "metadata": {},
   "source": [
    "## Summarize with a word limit"
   ]
  },
  {
   "cell_type": "code",
   "execution_count": 4,
   "id": "b95e54c0-ab07-4537-9b9c-c7317e162e33",
   "metadata": {},
   "outputs": [
    {
     "name": "stdout",
     "output_type": "stream",
     "text": [
      "\"The Count of Monte Cristo\" by Alexandre Dumas is a classic adventure novel set in France, Italy, and the Mediterranean during the Bourbon Restoration and reign of Louis-Philippe of France. The story follows Edmond Dantès, who is wrongfully imprisoned, escapes, acquires a fortune, and seeks revenge on those responsible for his imprisonment. It is a literary classic and a fixture of Western civilization's literature.\n"
     ]
    }
   ],
   "source": [
    "prompt = f\"\"\"\n",
    "Your task is to generate a short summary of a book review.\n",
    "\n",
    "Summarize the review below, delimited by triple quotes, \\\n",
    "in at most 50 words.\n",
    "\n",
    "Book review: <{review}>\n",
    "\"\"\"\n",
    "\n",
    "response = get_completion(prompt)\n",
    "print(response)"
   ]
  },
  {
   "cell_type": "code",
   "execution_count": 5,
   "id": "d227fc87-b729-45ba-ae5f-41c112ad4e79",
   "metadata": {},
   "outputs": [
    {
     "data": {
      "text/plain": [
       "64"
      ]
     },
     "execution_count": 5,
     "metadata": {},
     "output_type": "execute_result"
    }
   ],
   "source": [
    "len(response.split())"
   ]
  },
  {
   "attachments": {},
   "cell_type": "markdown",
   "id": "7c0f2fbf-9650-4c76-82cc-21bd4820676b",
   "metadata": {},
   "source": [
    "## Summarize with a focus on the characters Dantès and Faria"
   ]
  },
  {
   "cell_type": "code",
   "execution_count": 6,
   "id": "4b44ecf5-ba36-4b33-9868-01aaeb467693",
   "metadata": {},
   "outputs": [
    {
     "name": "stdout",
     "output_type": "stream",
     "text": [
      "The Count of Monte Cristo is a classic adventure novel by Alexandre Dumas, following the story of Edmond Dantès, who is wrongfully imprisoned and seeks revenge on those responsible. He is aided by fellow prisoner Abbé Faria, who helps him escape and acquire a fortune.\n"
     ]
    }
   ],
   "source": [
    "prompt = f\"\"\"\n",
    "Your task is to generate a short summary of a book review.\n",
    "\n",
    "Summarize the review below, delimited by triple quotes, \\\n",
    "in at most 50 words, and focusing on Dantès and Faria.\n",
    "\n",
    "Book review: <{review}>\n",
    "\"\"\"\n",
    "\n",
    "response = get_completion(prompt)\n",
    "print(response)"
   ]
  },
  {
   "cell_type": "code",
   "execution_count": 7,
   "id": "5f43c41e-1840-4173-97d8-bb9c2499908e",
   "metadata": {},
   "outputs": [
    {
     "data": {
      "text/plain": [
       "45"
      ]
     },
     "execution_count": 7,
     "metadata": {},
     "output_type": "execute_result"
    }
   ],
   "source": [
    "len(response.split())"
   ]
  },
  {
   "attachments": {},
   "cell_type": "markdown",
   "id": "c870bd94-e8d8-4fa8-8ceb-78f624a57116",
   "metadata": {},
   "source": [
    "## Try \"extract\" instead of \"summarize\""
   ]
  },
  {
   "cell_type": "code",
   "execution_count": 8,
   "id": "cb3c71ae-584c-44e4-a323-634839caeb43",
   "metadata": {},
   "outputs": [
    {
     "name": "stdout",
     "output_type": "stream",
     "text": [
      "Theme: Adventure story of revenge, justice, mercy, and forgiveness. \n",
      "Author: Alexandre Dumas (père), a French author known for popular works like The Three Musketeers.\n"
     ]
    }
   ],
   "source": [
    "prompt = f\"\"\"\n",
    "Your task is to extract relevant information from a book review.\n",
    "\n",
    "From the review below, delimited by triple quotes, \\\n",
    "extract the relevant information only on the theme of the book and the author.\n",
    "Limit to 30 words.\n",
    "\n",
    "Book review: <{review}>\n",
    "\"\"\"\n",
    "\n",
    "response = get_completion(prompt)\n",
    "print(response)"
   ]
  },
  {
   "cell_type": "code",
   "execution_count": 9,
   "id": "99ff0d39-8477-4edd-9e09-8f35b33fc10e",
   "metadata": {},
   "outputs": [
    {
     "data": {
      "text/plain": [
       "24"
      ]
     },
     "execution_count": 9,
     "metadata": {},
     "output_type": "execute_result"
    }
   ],
   "source": [
    "len(response.split())"
   ]
  }
 ],
 "metadata": {
  "kernelspec": {
   "display_name": "Python 3 (ipykernel)",
   "language": "python",
   "name": "python3"
  },
  "language_info": {
   "codemirror_mode": {
    "name": "ipython",
    "version": 3
   },
   "file_extension": ".py",
   "mimetype": "text/x-python",
   "name": "python",
   "nbconvert_exporter": "python",
   "pygments_lexer": "ipython3",
   "version": "3.10.11"
  }
 },
 "nbformat": 4,
 "nbformat_minor": 5
}
