{
 "cells": [
  {
   "cell_type": "markdown",
   "id": "e8f2cc5e-5aba-4328-a29d-f2e544aef115",
   "metadata": {},
   "source": [
    "# Expanding\n",
    "\n",
    "**Author:** [Guido Marinelli](https://github.com/GuidoMarinelli/)<br>\n",
    "**Date created:** 2023/05/07<br>\n",
    "**Last modified:** 2023/05/07<br>\n",
    "**Description:** Generate a cover letter in response to a job offer.<br>"
   ]
  },
  {
   "cell_type": "markdown",
   "id": "280cadb2-c8a4-419f-a989-55aec7fc6740",
   "metadata": {},
   "source": [
    "## Setup"
   ]
  },
  {
   "cell_type": "code",
   "execution_count": 1,
   "id": "5ba49361-d436-4b24-bb0e-7803e20a8de0",
   "metadata": {},
   "outputs": [],
   "source": [
    "import openai\n",
    "\n",
    "from keys import OPENAI_API_KEY  # indirect import of the API key\n",
    "\n",
    "openai.api_key = OPENAI_API_KEY"
   ]
  },
  {
   "cell_type": "code",
   "execution_count": 2,
   "id": "c57bd605-190f-4c91-9d6c-0ae107c8c068",
   "metadata": {},
   "outputs": [],
   "source": [
    "def get_completion(prompt, model='gpt-3.5-turbo', temperature=0):\n",
    "    messages = [{'role': 'user', 'content': prompt}]\n",
    "    response = openai.ChatCompletion.create(\n",
    "        model=model,\n",
    "        messages=messages,\n",
    "        temperature=temperature,\n",
    "    )\n",
    "    return response.choices[0].message['content']"
   ]
  },
  {
   "cell_type": "markdown",
   "id": "05093b1b-d7b1-4d59-a2d7-e514194c7c90",
   "metadata": {},
   "source": [
    "## Customize the automatic cover letter to a job offer"
   ]
  },
  {
   "cell_type": "code",
   "execution_count": 3,
   "id": "b386f9c0-63ed-4e6a-94f1-5f02d15b54b2",
   "metadata": {},
   "outputs": [
    {
     "name": "stdout",
     "output_type": "stream",
     "text": [
      "Job Offer: Data Scientist at Global Bank\n",
      "\n",
      "Global Bank is a leading financial institution with a strong presence in over 50 countries. We are committed to providing our customers with innovative financial solutions and exceptional customer service. We are currently seeking a highly motivated and skilled data scientist to join our team.\n",
      "\n",
      "As a data scientist at Global Bank, you will be responsible for analyzing large and complex data sets to identify patterns and trends that can be used to improve our business operations. You will work closely with our business leaders to develop data-driven strategies that will help us achieve our goals.\n",
      "\n",
      "Must-Have Skills:\n",
      "- Strong analytical and problem-solving skills\n",
      "- Proficiency in programming languages such as Python, R, and SQL\n",
      "- Experience with data visualization tools such as Tableau or Power BI\n",
      "- Knowledge of statistical analysis and machine learning algorithms\n",
      "\n",
      "Nice-to-Have Skills:\n",
      "- Experience with big data technologies such as Hadoop and Spark\n",
      "- Knowledge of cloud computing platforms such as AWS or Azure\n",
      "- Familiarity with financial data and regulations\n",
      "\n",
      "Soft Skills:\n",
      "- Strong communication and collaboration skills\n",
      "- Ability to work independently and as part of a team\n",
      "- Strong attention to detail and accuracy\n",
      "\n",
      "At Global Bank, we offer a dynamic and challenging work environment that encourages innovation and creativity. We provide our employees with opportunities for growth and development, as well as competitive compensation and benefits packages. Join our team and help us shape the future of finance.\n"
     ]
    }
   ],
   "source": [
    "# generate a job advertisement\n",
    "prompt = f\"\"\"\n",
    "Your task is to generate a job offer for a major bank, give the bank a name. \n",
    "The position offered is that of data scientist. \n",
    "Generate a brief description of the company and the role of the ideal candidate.\n",
    "Generate a bullet list for the must to have, nice to have and soft skills of the candidate.\n",
    "Finally, describe what are the advantages of working in their company.\n",
    "\"\"\"\n",
    "review = get_completion(prompt)\n",
    "print(review)"
   ]
  },
  {
   "cell_type": "code",
   "execution_count": 4,
   "id": "da075365-0109-42e9-a2d3-9cc81788faa8",
   "metadata": {},
   "outputs": [],
   "source": [
    "# competences of the candidate\n",
    "candidate = f\"\"\"\n",
    "- First-year undergraduate mathematics student\n",
    "- Python Developer at first experience. \n",
    "- Knowledge of the language for more than 3 years. \n",
    "- Strong background of general concepts of computer science. \n",
    "- Knowledge of SQL databases, Machine Learning and Deep learning library.\n",
    "\n",
    "Soft Skills:\n",
    "- Analytical skills.\n",
    "- Accuracy and Attention to Detail\n",
    "- Active Learning\n",
    "- Problem Solving\n",
    "- Communication\n",
    "- Team Working\n",
    "- Creative Thinking\n",
    "\n",
    "Hard Skills:\n",
    "- macOs, Linux, Windows\n",
    "- Python, R\n",
    "- Object-oriented programming\n",
    "- Jupyter Notebook, Visual Studio Code\n",
    "- Git, MySQL\n",
    "\"\"\""
   ]
  },
  {
   "cell_type": "code",
   "execution_count": 5,
   "id": "25871bdf-5b8a-4cbc-9879-03fbd91c9b4e",
   "metadata": {},
   "outputs": [
    {
     "name": "stdout",
     "output_type": "stream",
     "text": [
      "Dear Hiring Manager,\n",
      "\n",
      "I am writing to express my interest in the Data Scientist position at Global Bank. As a first-year undergraduate mathematics student with a strong background in computer science, I am confident that I possess the necessary skills and qualifications to excel in this role.\n",
      "\n",
      "With over three years of experience in Python development, I am proficient in programming languages such as Python, R, and SQL, as well as data visualization tools such as Tableau and Power BI. Additionally, I have knowledge of statistical analysis and machine learning algorithms, which I believe will be valuable in analyzing large and complex data sets to identify patterns and trends that can be used to improve business operations.\n",
      "\n",
      "I am also familiar with Git, MySQL, and Jupyter Notebook, and have experience working with macOS, Linux, and Windows operating systems. Furthermore, I possess strong communication and collaboration skills, and am able to work independently and as part of a team.\n",
      "\n",
      "I am excited about the opportunity to work at Global Bank, a leading financial institution with a strong presence in over 50 countries. I am confident that my skills and qualifications make me a strong candidate for this position, and I look forward to discussing my application with you further.\n",
      "\n",
      "Thank you for considering my application.\n",
      "\n",
      "Sincerely,\n",
      "\n",
      "AI job seeker\n"
     ]
    }
   ],
   "source": [
    "prompt = f\"\"\"\n",
    "You are an AI candidate looking for work. \n",
    "Your job is to respond via email to a job posting \\\n",
    "from an esteemed company. \n",
    "Given the customer's offer delimited by ```, \\ \n",
    "Generate a response to get a job interview. \n",
    "Use the characteristics of the candidate. \n",
    "Make sure to use matches between the specific \\\n",
    "details of the offer and the candidate.\n",
    "Write in a concise and professional tone. \n",
    "Sign the email as an `AI job seeker`. \n",
    "\n",
    "Company offer: ```{review}``` \n",
    "Candidate characteristics: {candidate}\n",
    "\"\"\"\n",
    "response = get_completion(prompt)\n",
    "print(response)"
   ]
  },
  {
   "cell_type": "markdown",
   "id": "f035fc65-1fc4-4495-a50e-2d39a6e2fa62",
   "metadata": {},
   "source": [
    "## Repeat the task by adding more variety to the cover letter"
   ]
  },
  {
   "cell_type": "code",
   "execution_count": 6,
   "id": "f32fe5d7-c4fc-485f-a713-e09bb977f633",
   "metadata": {},
   "outputs": [
    {
     "name": "stdout",
     "output_type": "stream",
     "text": [
      "Dear Hiring Manager,\n",
      "\n",
      "I am writing to express my strong interest in the Data Scientist position at Global Bank. As a first-year undergraduate mathematics student with a strong background in computer science and over 3 years of experience in Python development, I believe that I would make a valuable addition to your team.\n",
      "\n",
      "I have extensive knowledge of SQL databases and experience working with machine learning and deep learning libraries. I also have experience with data visualization tools such as Jupyter Notebook and Tableau. Additionally, I am skilled in object-oriented programming and have worked with Git and MySQL.\n",
      "\n",
      "In terms of soft skills, I possess strong analytical skills, accuracy, attention to detail, active learning, problem-solving, communication, team working, and creative thinking. I am confident that these skills would allow me to work effectively with your business leaders to develop data-driven strategies and improve your business operations.\n",
      "\n",
      "I am excited about the opportunity to work in a dynamic and challenging work environment that encourages innovation and creativity. Thank you for considering my application. I look forward to the opportunity to discuss my qualifications further.\n",
      "\n",
      "Sincerely,\n",
      "\n",
      "AI job seeker\n"
     ]
    }
   ],
   "source": [
    "prompt = f\"\"\"\n",
    "You are an AI candidate looking for work. \n",
    "Your job is to respond via email to a job posting \\\n",
    "from an esteemed company. \n",
    "Given the customer's offer delimited by ```, \\ \n",
    "Generate a response to get a job interview. \n",
    "Use the characteristics of the candidate. \n",
    "Make sure to use matches between the specific \\\n",
    "details of the offer and the candidate.\n",
    "Write in a concise and professional tone. \n",
    "Sign the email as an `AI job seeker`. \n",
    "\n",
    "Company offer: ```{review}``` \n",
    "Candidate characteristics: {candidate}\n",
    "\"\"\"\n",
    "response = get_completion(prompt, temperature=0.7)\n",
    "print(response)"
   ]
  },
  {
   "cell_type": "code",
   "execution_count": null,
   "id": "04df3b02-68ce-4dce-8c75-f289864bff04",
   "metadata": {},
   "outputs": [],
   "source": []
  }
 ],
 "metadata": {
  "kernelspec": {
   "display_name": "Python 3 (ipykernel)",
   "language": "python",
   "name": "python3"
  },
  "language_info": {
   "codemirror_mode": {
    "name": "ipython",
    "version": 3
   },
   "file_extension": ".py",
   "mimetype": "text/x-python",
   "name": "python",
   "nbconvert_exporter": "python",
   "pygments_lexer": "ipython3",
   "version": "3.10.11"
  }
 },
 "nbformat": 4,
 "nbformat_minor": 5
}
