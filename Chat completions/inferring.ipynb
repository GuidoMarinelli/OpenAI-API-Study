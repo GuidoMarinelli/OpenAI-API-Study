{
 "cells": [
  {
   "cell_type": "markdown",
   "id": "ab60526a-8e3f-41cd-afca-ebf1c2b75a4c",
   "metadata": {},
   "source": [
    "# Inferring\n",
    "\n",
    "**Author:** [Guido Marinelli](https://github.com/GuidoMarinelli/)<br>\n",
    "**Date created:** 2023/05/05<br>\n",
    "**Last modified:** 2023/05/05<br>\n",
    "**Description:** Infer sentiment and topics from a speech.<br>"
   ]
  },
  {
   "cell_type": "markdown",
   "id": "9485c15f-69ad-4970-9496-9ca577de6260",
   "metadata": {},
   "source": [
    "## Setup"
   ]
  },
  {
   "cell_type": "code",
   "execution_count": 1,
   "id": "ac415dcc-dbe9-42f2-878e-5159cb467bea",
   "metadata": {},
   "outputs": [],
   "source": [
    "import openai\n",
    "\n",
    "from keys import OPENAI_API_KEY # indirect import of the API key\n",
    "\n",
    "openai.api_key = OPENAI_API_KEY"
   ]
  },
  {
   "cell_type": "code",
   "execution_count": 2,
   "id": "1802b9e5-b086-44e3-bf59-922a64e974dd",
   "metadata": {},
   "outputs": [],
   "source": [
    "def get_completion(prompt, model='gpt-3.5-turbo'):\n",
    "    messages = [{'role': 'user', 'content': prompt}]\n",
    "    response = openai.ChatCompletion.create(\n",
    "        model=model,\n",
    "        messages=messages,\n",
    "        temperature=0,  # this is the degree for tasks that require reliability, predictability\n",
    "    )\n",
    "    return response.choices[0].message['content']"
   ]
  },
  {
   "cell_type": "markdown",
   "id": "acfbf9c9-73cf-4c59-99f1-7b63b3e87b57",
   "metadata": {},
   "source": [
    "## Speech"
   ]
  },
  {
   "cell_type": "code",
   "execution_count": 3,
   "id": "b7d28600-0ba2-41fb-bd6a-3d913f54dc0a",
   "metadata": {},
   "outputs": [],
   "source": [
    "speech = f\"\"\"\n",
    "Mi dispiace, ma io non voglio fare l'Imperatore: non è il mio mestiere; non voglio governare \\\n",
    "né conquistare nessuno. Vorrei aiutare tutti, se possibile: ebrei, ariani, uomini neri \\\n",
    "e bianchi. Tutti noi esseri umani dovremmo aiutarci sempre, dovremmo godere soltanto della \\\n",
    "felicità del prossimo, non odiarci e disprezzarci l'un l'altro. In questo mondo c'è posto \\\n",
    "per tutti. La natura è ricca, è sufficiente per tutti noi; la vita può essere felice e \\\n",
    "magnifica, ma noi lo abbiamo dimenticato. \n",
    "\n",
    "L'avidità ha avvelenato i nostri cuori, ha precipitato il mondo nell'odio, ci ha condotti \\\n",
    "a passo d'oca fra le cose più abbiette. Abbiamo i mezzi per spaziare, ma ci siamo chiusi \\\n",
    "in noi stessi. La macchina dell'abbondanza ci ha dato povertà; la scienza ci ha trasformato \\\n",
    "in cinici; l'avidità ci ha resi duri e cattivi; pensiamo troppo e sentiamo poco. \n",
    "Più che macchinari, ci serve umanità; più che abilità, ci serve bontà e gentilezza. \n",
    "Senza queste qualità la vita è violenza e tutto è perduto. \n",
    "\n",
    "L'aviazione e la radio hanno riavvicinato le genti; la natura stessa di queste \\\n",
    "invenzioni reclama la bontà nell'uomo, reclama la fratellanza universale, l'unione \\\n",
    "dell'umanità. Perfino ora la mia voce raggiunge milioni di persone nel mondo, milioni \\\n",
    "di uomini, donne e bambini disperati, vittime di un sistema che impone agli uomini di \\\n",
    "torturare e imprigionare gente innocente. \n",
    "\n",
    "A coloro che mi odono, io dico: non disperate! L'avidità che ci comanda è solamente \\\n",
    "un male passeggero, l'amarezza di uomini che temono le vie del progresso umano. \n",
    "L'odio degli uomini scompare insieme ai dittatori e il potere che hanno tolto al popolo \\\n",
    "ritornerà al popolo e, qualsiasi mezzo usino, la libertà non può essere soppressa... \n",
    "\n",
    "Soldati! Non cedete a dei bruti, uomini che vi disprezzano e vi sfruttano, che vi dicono \\\n",
    "come vivere, cosa fare, cosa dire, cosa pensare, che vi irreggimentano, vi condizionano, \\\n",
    "vi trattano come bestie. Non vi consegnate a questa gente senza un'anima, uomini macchina, \\\n",
    "con macchine al posto del cervello e del cuore. Voi non siete macchine, voi non siete bestie: \\\n",
    "siete uomini! Voi avete l'amore dell'umanità nel cuore, voi non odiate, coloro che \\\n",
    "odiano sono quelli che non hanno l'amore altrui. Soldati! Non difendete la schiavitù, ma la libertà! \n",
    "\n",
    "Ricordate nel Vangelo di S. Luca è scritto: \"Il Regno di Dio è nel cuore dell'uomo\". \n",
    "Non di un solo uomo o di un gruppo di uomini, ma di tutti gli uomini. Voi! Voi, \\\n",
    "il popolo, avete la forza \\di creare le macchine, la forza di creare la felicità. \n",
    "Voi, il popolo, avete la forza di fare che la vita sia bella e libera; di fare \\\n",
    "di questa vita una splendida avventura. \n",
    "\n",
    "Quindi, in nome della democrazia, usiamo questa forza. Uniamoci tutti! Combattiamo \\\n",
    "per un mondo nuovo che sia migliore! Che dia a tutti gli uomini lavoro; ai giovani \\\n",
    "un futuro; ai vecchi la sicurezza. Promettendovi queste cose dei bruti sono andati \\\n",
    "al potere, mentivano! Non hanno mantenuto quelle promesse, e mai lo faranno! \n",
    "\n",
    "I dittatori forse sono liberi perché rendono schiavo il popolo. Allora combattiamo \\\n",
    "per mantenere quelle promesse! Combattiamo per liberare il mondo, eliminando confini \\\n",
    "e barriere; eliminando l'avidità, l'odio e l'intolleranza. Combattiamo per un mondo \\\n",
    "ragionevole. Un mondo in cui la scienza e il progresso diano a tutti gli uomini il benessere. \n",
    "Soldati, nel nome della democrazia, siate tutti uniti!\n",
    "\n",
    "Hannah, puoi sentirmi? Dovunque tu sia, abbi fiducia. Guarda in alto, Hannah! Le nuvole \\\n",
    "si diradano: comincia a splendere il Sole. Prima o poi usciremo dall'oscurità, verso la \\\n",
    "luce e vivremo in un mondo nuovo. Un mondo più buono in cui gli uomini si solleveranno \\\n",
    "al di sopra della loro avidità, del loro odio, della loro brutalità. Guarda in alto, \\\n",
    "Hannah! L'animo umano troverà le sue ali, e finalmente comincerà a volare, a volare \\\n",
    "sull'arcobaleno verso la luce della speranza, verso il futuro. Il glorioso futuro che \\\n",
    "appartiene a te, a me, a tutti noi. Guarda in alto Hannah, lassù.\n",
    "\"\"\""
   ]
  },
  {
   "cell_type": "markdown",
   "id": "41487a88-6ef6-4f1c-8275-7f27ccb7ded4",
   "metadata": {},
   "source": [
    "_Final speech from The Great Dictator Copyright © Roy Export S.A.S. All rights reserved_"
   ]
  },
  {
   "cell_type": "markdown",
   "id": "5bb4e678-a4fb-4d5b-a252-caaf36bcaeb1",
   "metadata": {},
   "source": [
    "## Sentiment (positive/negative)"
   ]
  },
  {
   "cell_type": "code",
   "execution_count": 4,
   "id": "42b5e1c1-2e7a-47f7-9b9e-907a58ae1de2",
   "metadata": {},
   "outputs": [
    {
     "name": "stdout",
     "output_type": "stream",
     "text": [
      "Il sentimento del discorso è di speranza e di unione per un mondo migliore, in cui l'umanità si solleva al di sopra della sua avidità, del suo odio e della sua brutalità. Il discorso è incentrato sulla fratellanza universale e sull'importanza della bontà e della gentilezza. Il discorso è anche critico nei confronti dei dittatori e del sistema che impone agli uomini di torturare e imprigionare gente innocente. In generale, il discorso è positivo e incoraggiante, con un forte messaggio di speranza e di unità.\n"
     ]
    }
   ],
   "source": [
    "prompt = f\"\"\"\n",
    "Qual è il sentimento del discorso seguente, \\ \n",
    "che è delimitato da triple quote?\n",
    "\n",
    "Discorso: <{speech}>\n",
    "\"\"\"\n",
    "response = get_completion(prompt)\n",
    "print(response)"
   ]
  },
  {
   "cell_type": "code",
   "execution_count": 5,
   "id": "1e409547-f5c7-412d-a9d9-19b1006e3967",
   "metadata": {},
   "outputs": [
    {
     "name": "stdout",
     "output_type": "stream",
     "text": [
      "Positiva.\n"
     ]
    }
   ],
   "source": [
    "prompt = f\"\"\"\n",
    "Qual è il sentimento del discorso seguente, \\ \n",
    "che è delimitato da triple quote?\n",
    "\n",
    "Dai la tua risposta come una sola parola, \"positiva\" \\ \n",
    "o \"negativa\".\n",
    "\n",
    "Discorso: <{speech}>\n",
    "\"\"\"\n",
    "response = get_completion(prompt)\n",
    "print(response)"
   ]
  },
  {
   "cell_type": "markdown",
   "id": "82e1f808-7758-4497-9566-498a60fb24e0",
   "metadata": {},
   "source": [
    "## Identify types of emotions"
   ]
  },
  {
   "cell_type": "code",
   "execution_count": 6,
   "id": "05719328-978e-4355-8005-7392cab53b28",
   "metadata": {},
   "outputs": [
    {
     "name": "stdout",
     "output_type": "stream",
     "text": [
      "dispiacere, compassione, speranza, determinazione, umanità\n"
     ]
    }
   ],
   "source": [
    "prompt = f\"\"\"\n",
    "Identifica un elenco di emozioni che l'oratore \\\n",
    "del discorso sta esprimendo. Includere non più di \\ \n",
    "cinque elementi nell'elenco. \n",
    "Formatta la tua risposta come un elenco di \\ \n",
    "parole minuscole separate da virgole.\n",
    "\n",
    "Discorso: <{speech}>\n",
    "\"\"\"\n",
    "response = get_completion(prompt)\n",
    "print(response)"
   ]
  },
  {
   "cell_type": "markdown",
   "id": "5f14da1e-4d25-49c5-bc8d-2c0b89000d97",
   "metadata": {},
   "source": [
    "## Identify anger"
   ]
  },
  {
   "cell_type": "code",
   "execution_count": 7,
   "id": "b89ee955-280e-404f-b23e-4f425b4966bc",
   "metadata": {},
   "outputs": [
    {
     "name": "stdout",
     "output_type": "stream",
     "text": [
      "No.\n"
     ]
    }
   ],
   "source": [
    "prompt = f\"\"\"\n",
    "L'oratore del seguente discorso esprime rabbia? \n",
    "La recensione è delimitata da triple quote.\n",
    "\n",
    "Dai la risposta come sì o no.\n",
    "\n",
    "Discorso: <{speech}>\n",
    "\"\"\"\n",
    "response = get_completion(prompt)\n",
    "print(response)"
   ]
  },
  {
   "cell_type": "markdown",
   "id": "e0dbe375-f215-4414-a7e7-98e4f665edd9",
   "metadata": {},
   "source": [
    "## Extract who the recipients of the speech are, what leads to the dictatorship and what men are not from the speech"
   ]
  },
  {
   "cell_type": "code",
   "execution_count": 8,
   "id": "21d2b92c-b7f2-4d9d-9d50-d860563a4b44",
   "metadata": {},
   "outputs": [
    {
     "name": "stdout",
     "output_type": "stream",
     "text": [
      "{\n",
      "  \"destinatari\": \"soldati e popolo\",\n",
      "  \"cosa_porta_alla_dittatura\": \"avidità, cinismo, durezza e cattiveria degli uomini\",\n",
      "  \"cosa_non_sono_uomini\": \"macchine e bestie\"\n",
      "}\n"
     ]
    }
   ],
   "source": [
    "prompt = f\"\"\"\n",
    "Identificare i seguenti elementi del discorso: \n",
    "- Chi sono i destinatari del discorso \n",
    "- Cosa porta alla dittatura \n",
    "- Cosa non sono gli uomini \n",
    "\n",
    "Il discorso è delimitato con triple quote. \\ \n",
    "Formatta la tua risposta come oggetto JSON con \\ \n",
    "\"destinitori\", \"cosa_porta_alla_dittatura\" e \"cosa_non_sono_uomini\" come chiavi. \n",
    "Se le informazioni non sono presenti, usa \"sconosciuto\" \\ \n",
    "come valore. \n",
    "Rendi la tua risposta il più breve possibile.\n",
    "\n",
    "Discorso: <{speech}>\n",
    "\"\"\"\n",
    "response = get_completion(prompt)\n",
    "print(response)"
   ]
  },
  {
   "cell_type": "markdown",
   "id": "5d8d8db6-4b14-4cdf-a8d3-7942d948945a",
   "metadata": {},
   "source": [
    "## Infer 5 topics"
   ]
  },
  {
   "cell_type": "code",
   "execution_count": 9,
   "id": "09e64481-ca9e-4054-a960-ae8ad1a0abc8",
   "metadata": {},
   "outputs": [
    {
     "name": "stdout",
     "output_type": "stream",
     "text": [
      "1. L'importanza dell'aiuto reciproco tra esseri umani di ogni razza e religione.\n",
      "2. La critica all'avidità e alla sua influenza negativa sulla società.\n",
      "3. L'importanza della bontà e della gentilezza umana.\n",
      "4. La necessità di combattere la schiavitù e l'oppressione dei dittatori.\n",
      "5. La speranza in un futuro migliore, in cui gli uomini supereranno la loro avidità, odio e brutalità.\n"
     ]
    }
   ],
   "source": [
    "prompt = f\"\"\"\n",
    "Determinare cinque argomenti che vengono discussi nel seguente \\ \n",
    "discorso, che è delimitato da triple quote. \n",
    "\n",
    "Formatta la tua risposta come un elenco di elementi separati da virgole.\n",
    "\n",
    "Discorso: <{speech}>\n",
    "\"\"\"\n",
    "response = get_completion(prompt)\n",
    "print(response)"
   ]
  }
 ],
 "metadata": {
  "kernelspec": {
   "display_name": "Python 3 (ipykernel)",
   "language": "python",
   "name": "python3"
  },
  "language_info": {
   "codemirror_mode": {
    "name": "ipython",
    "version": 3
   },
   "file_extension": ".py",
   "mimetype": "text/x-python",
   "name": "python",
   "nbconvert_exporter": "python",
   "pygments_lexer": "ipython3",
   "version": "3.10.11"
  }
 },
 "nbformat": 4,
 "nbformat_minor": 5
}
